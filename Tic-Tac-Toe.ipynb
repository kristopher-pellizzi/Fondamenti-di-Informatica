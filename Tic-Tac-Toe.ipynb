{
 "cells": [
  {
   "cell_type": "code",
   "execution_count": 6,
   "metadata": {
    "collapsed": true
   },
   "outputs": [],
   "source": [
    "def crea_matrice(n):\n",
    "    return [[0 for j in range(n)] for i in range(n)]"
   ]
  },
  {
   "cell_type": "code",
   "execution_count": 57,
   "metadata": {
    "collapsed": true
   },
   "outputs": [],
   "source": [
    "def scrivi_mat(m):\n",
    "    for i in range(len(m)):\n",
    "        for j in range(len(m[0])):\n",
    "            print(m[i][j],end=\"\\t\")\n",
    "        print(\"\\n\")"
   ]
  },
  {
   "cell_type": "code",
   "execution_count": 58,
   "metadata": {
    "collapsed": false
   },
   "outputs": [],
   "source": [
    "m=crea_matrice(3)"
   ]
  },
  {
   "cell_type": "code",
   "execution_count": 59,
   "metadata": {
    "collapsed": false
   },
   "outputs": [
    {
     "name": "stdout",
     "output_type": "stream",
     "text": [
      "0\t0\t0\t\n",
      "\n",
      "0\t0\t0\t\n",
      "\n",
      "0\t0\t0\t\n",
      "\n"
     ]
    }
   ],
   "source": [
    "scrivi_mat(m)"
   ]
  },
  {
   "cell_type": "code",
   "execution_count": 61,
   "metadata": {
    "collapsed": true
   },
   "outputs": [],
   "source": [
    "from random import randint"
   ]
  },
  {
   "cell_type": "code",
   "execution_count": 62,
   "metadata": {
    "collapsed": false
   },
   "outputs": [],
   "source": [
    "def partita_casuale():\n",
    "    return [[randint(0,2) for j in range(3)] for i in range(3)] "
   ]
  },
  {
   "cell_type": "code",
   "execution_count": 175,
   "metadata": {
    "collapsed": true
   },
   "outputs": [],
   "source": [
    "m=partita_casuale()"
   ]
  },
  {
   "cell_type": "code",
   "execution_count": 176,
   "metadata": {
    "collapsed": false
   },
   "outputs": [
    {
     "name": "stdout",
     "output_type": "stream",
     "text": [
      "2\t0\t1\t\n",
      "\n",
      "0\t0\t0\t\n",
      "\n",
      "2\t2\t1\t\n",
      "\n"
     ]
    }
   ],
   "source": [
    "scrivi_mat(m)"
   ]
  },
  {
   "cell_type": "code",
   "execution_count": 65,
   "metadata": {
    "collapsed": false
   },
   "outputs": [],
   "source": [
    "def righe(m,i):\n",
    "    return [m[i][j] for j in range(3)]"
   ]
  },
  {
   "cell_type": "code",
   "execution_count": 66,
   "metadata": {
    "collapsed": false
   },
   "outputs": [
    {
     "data": {
      "text/plain": [
       "[1, 0, 1]"
      ]
     },
     "execution_count": 66,
     "metadata": {},
     "output_type": "execute_result"
    }
   ],
   "source": [
    "righe(m,2)"
   ]
  },
  {
   "cell_type": "code",
   "execution_count": 67,
   "metadata": {
    "collapsed": true
   },
   "outputs": [],
   "source": [
    "def colonne(m,j):\n",
    "    return [m[i][j] for i in range(3)]"
   ]
  },
  {
   "cell_type": "code",
   "execution_count": 68,
   "metadata": {
    "collapsed": false
   },
   "outputs": [
    {
     "data": {
      "text/plain": [
       "[2, 0, 1]"
      ]
     },
     "execution_count": 68,
     "metadata": {},
     "output_type": "execute_result"
    }
   ],
   "source": [
    "colonne(m,2)"
   ]
  },
  {
   "cell_type": "code",
   "execution_count": 73,
   "metadata": {
    "collapsed": false
   },
   "outputs": [],
   "source": [
    "def diag_p(m):\n",
    "    return[m[i][i] for i in range(3)]"
   ]
  },
  {
   "cell_type": "code",
   "execution_count": 74,
   "metadata": {
    "collapsed": false
   },
   "outputs": [
    {
     "data": {
      "text/plain": [
       "[2, 0, 1]"
      ]
     },
     "execution_count": 74,
     "metadata": {},
     "output_type": "execute_result"
    }
   ],
   "source": [
    "diag_p(m)"
   ]
  },
  {
   "cell_type": "code",
   "execution_count": 83,
   "metadata": {
    "collapsed": false
   },
   "outputs": [],
   "source": [
    "def diag_s(m):\n",
    "    return[m[2-i][i] for i in range(3)]"
   ]
  },
  {
   "cell_type": "code",
   "execution_count": 127,
   "metadata": {
    "collapsed": false
   },
   "outputs": [
    {
     "data": {
      "text/plain": [
       "[1, 0, 2]"
      ]
     },
     "execution_count": 127,
     "metadata": {},
     "output_type": "execute_result"
    }
   ],
   "source": [
    "diag_s(m)"
   ]
  },
  {
   "cell_type": "code",
   "execution_count": 94,
   "metadata": {
    "collapsed": true
   },
   "outputs": [],
   "source": [
    "def contr_rig(m):\n",
    "    for i in range(3):\n",
    "        if len(set(righe(m,i)))==1:\n",
    "            return m[i][0]\n",
    "    return 0"
   ]
  },
  {
   "cell_type": "code",
   "execution_count": 134,
   "metadata": {
    "collapsed": true
   },
   "outputs": [],
   "source": [
    "c=[[1,2,3],[4,5,6],[7,8,9]]"
   ]
  },
  {
   "cell_type": "code",
   "execution_count": 119,
   "metadata": {
    "collapsed": false
   },
   "outputs": [
    {
     "name": "stdout",
     "output_type": "stream",
     "text": [
      "1\t2\t7\t\n",
      "\n",
      "4\t7\t6\t\n",
      "\n",
      "7\t8\t9\t\n",
      "\n"
     ]
    }
   ],
   "source": [
    "scrivi_mat(c)"
   ]
  },
  {
   "cell_type": "code",
   "execution_count": 107,
   "metadata": {
    "collapsed": false
   },
   "outputs": [
    {
     "data": {
      "text/plain": [
       "0"
      ]
     },
     "execution_count": 107,
     "metadata": {},
     "output_type": "execute_result"
    }
   ],
   "source": [
    "contr_rig(c)"
   ]
  },
  {
   "cell_type": "code",
   "execution_count": 108,
   "metadata": {
    "collapsed": true
   },
   "outputs": [],
   "source": [
    "def contr_col(m):\n",
    "    for i in range(3):\n",
    "        if len(set(colonne(m,i)))==1:\n",
    "            return m[0][i]\n",
    "    return 0"
   ]
  },
  {
   "cell_type": "code",
   "execution_count": 109,
   "metadata": {
    "collapsed": false
   },
   "outputs": [
    {
     "data": {
      "text/plain": [
       "0"
      ]
     },
     "execution_count": 109,
     "metadata": {},
     "output_type": "execute_result"
    }
   ],
   "source": [
    "contr_col(c)"
   ]
  },
  {
   "cell_type": "code",
   "execution_count": 110,
   "metadata": {
    "collapsed": true
   },
   "outputs": [],
   "source": [
    "def contr_diagp(m):\n",
    "    if len(set(diag_p(m)))==1:\n",
    "        return m[1][1]\n",
    "    return 0"
   ]
  },
  {
   "cell_type": "code",
   "execution_count": 115,
   "metadata": {
    "collapsed": false
   },
   "outputs": [
    {
     "data": {
      "text/plain": [
       "0"
      ]
     },
     "execution_count": 115,
     "metadata": {},
     "output_type": "execute_result"
    }
   ],
   "source": [
    "contr_diagp(c)"
   ]
  },
  {
   "cell_type": "code",
   "execution_count": 132,
   "metadata": {
    "collapsed": true
   },
   "outputs": [],
   "source": [
    "def contr_diags(c):\n",
    "    if len(set(diag_s(c)))==1:\n",
    "        return c[2][0]\n",
    "    return 0"
   ]
  },
  {
   "cell_type": "code",
   "execution_count": 135,
   "metadata": {
    "collapsed": false
   },
   "outputs": [
    {
     "data": {
      "text/plain": [
       "0"
      ]
     },
     "execution_count": 135,
     "metadata": {},
     "output_type": "execute_result"
    }
   ],
   "source": [
    "contr_diags(c)"
   ]
  },
  {
   "cell_type": "code",
   "execution_count": 143,
   "metadata": {
    "collapsed": true
   },
   "outputs": [],
   "source": [
    "def controllo_tris(m):\n",
    "    if contr_col(m)!=0:\n",
    "        return contr_col(m)\n",
    "    if contr_rig(m)!=0:\n",
    "        return contr_rig(m)\n",
    "    if contr_diagp(m)!=0:\n",
    "        return contr_diagp(m)\n",
    "    if contr_diags(m)!=0:\n",
    "        return diags(m)\n",
    "    return 0"
   ]
  },
  {
   "cell_type": "code",
   "execution_count": 145,
   "metadata": {
    "collapsed": false
   },
   "outputs": [],
   "source": [
    "def controllo_tris_r(m):\n",
    "    c=[]\n",
    "    c=c+[contr_rig(m)]\n",
    "    c=c+[contr_col(m)]\n",
    "    c=c+[contr_diagp(m)]\n",
    "    c=c+[contr_diags(m)]\n",
    "    return 1 if sum(c)!=0 else 0"
   ]
  },
  {
   "cell_type": "code",
   "execution_count": 153,
   "metadata": {
    "collapsed": false
   },
   "outputs": [
    {
     "data": {
      "text/plain": [
       "0"
      ]
     },
     "execution_count": 153,
     "metadata": {},
     "output_type": "execute_result"
    }
   ],
   "source": [
    "controllo_tris_r(c)"
   ]
  },
  {
   "cell_type": "code",
   "execution_count": 185,
   "metadata": {
    "collapsed": true
   },
   "outputs": [],
   "source": [
    "def contr_mosse(m):\n",
    "    c=[m[i][j]==0 for i in range(3) for j in range(3)]\n",
    "    return 1 if sum(c)>0 else 0"
   ]
  },
  {
   "cell_type": "code",
   "execution_count": 188,
   "metadata": {
    "collapsed": false
   },
   "outputs": [
    {
     "data": {
      "text/plain": [
       "0"
      ]
     },
     "execution_count": 188,
     "metadata": {},
     "output_type": "execute_result"
    }
   ],
   "source": [
    "contr_mosse(c)"
   ]
  },
  {
   "cell_type": "code",
   "execution_count": 148,
   "metadata": {
    "collapsed": true
   },
   "outputs": [],
   "source": [
    "def mossa(m,g,x,y):\n",
    "    if  m[x][y]==0:\n",
    "        m[x][y]=g\n",
    "    return"
   ]
  },
  {
   "cell_type": "code",
   "execution_count": 149,
   "metadata": {
    "collapsed": true
   },
   "outputs": [],
   "source": [
    "def mossa_ai(m,g):\n",
    "    x=randint(0,2)\n",
    "    y=randint(0,2)\n",
    "    while m[x][y]!=0:\n",
    "        x=randint(0,2)\n",
    "        y=randint(0,2)\n",
    "    mossa(m,g,x,y)\n",
    "    return"
   ]
  },
  {
   "cell_type": "code",
   "execution_count": 214,
   "metadata": {
    "collapsed": false
   },
   "outputs": [],
   "source": [
    "def partita():\n",
    "    print(\"Comincia la partita!\")\n",
    "    print(\"\\n\\n\")\n",
    "    m=crea_matrice(3)\n",
    "    g=1\n",
    "    turno=1\n",
    "    while(controllo_tris(m)==0 and contr_mosse(m)):\n",
    "        mossa_ai(m,g)\n",
    "        g=g+1\n",
    "        if g==3:\n",
    "            g=1\n",
    "        print(\"Turno \",turno,\")\\n\")\n",
    "        scrivi_mat(m)\n",
    "        print(\"\\n\\n\")\n",
    "        turno=turno+1\n",
    "    print(\"La partita e finita.\\n\")\n",
    "    if controllo_tris(m)!=0:\n",
    "        print(\"Ha vinto il giocatore \",controllo_tris(m),\"!\")\n",
    "    else:\n",
    "        print(\"Pareggio!\")\n",
    "    return"
   ]
  },
  {
   "cell_type": "code",
   "execution_count": 217,
   "metadata": {
    "collapsed": false
   },
   "outputs": [
    {
     "name": "stdout",
     "output_type": "stream",
     "text": [
      "Comincia la partita!\n",
      "\n",
      "\n",
      "\n",
      "Turno  1 )\n",
      "\n",
      "0\t0\t0\t\n",
      "\n",
      "0\t1\t0\t\n",
      "\n",
      "0\t0\t0\t\n",
      "\n",
      "\n",
      "\n",
      "\n",
      "Turno  2 )\n",
      "\n",
      "0\t0\t0\t\n",
      "\n",
      "0\t1\t0\t\n",
      "\n",
      "0\t0\t2\t\n",
      "\n",
      "\n",
      "\n",
      "\n",
      "Turno  3 )\n",
      "\n",
      "0\t1\t0\t\n",
      "\n",
      "0\t1\t0\t\n",
      "\n",
      "0\t0\t2\t\n",
      "\n",
      "\n",
      "\n",
      "\n",
      "Turno  4 )\n",
      "\n",
      "0\t1\t2\t\n",
      "\n",
      "0\t1\t0\t\n",
      "\n",
      "0\t0\t2\t\n",
      "\n",
      "\n",
      "\n",
      "\n",
      "Turno  5 )\n",
      "\n",
      "0\t1\t2\t\n",
      "\n",
      "0\t1\t1\t\n",
      "\n",
      "0\t0\t2\t\n",
      "\n",
      "\n",
      "\n",
      "\n",
      "Turno  6 )\n",
      "\n",
      "0\t1\t2\t\n",
      "\n",
      "0\t1\t1\t\n",
      "\n",
      "0\t2\t2\t\n",
      "\n",
      "\n",
      "\n",
      "\n",
      "Turno  7 )\n",
      "\n",
      "0\t1\t2\t\n",
      "\n",
      "0\t1\t1\t\n",
      "\n",
      "1\t2\t2\t\n",
      "\n",
      "\n",
      "\n",
      "\n",
      "Turno  8 )\n",
      "\n",
      "0\t1\t2\t\n",
      "\n",
      "2\t1\t1\t\n",
      "\n",
      "1\t2\t2\t\n",
      "\n",
      "\n",
      "\n",
      "\n",
      "Turno  9 )\n",
      "\n",
      "1\t1\t2\t\n",
      "\n",
      "2\t1\t1\t\n",
      "\n",
      "1\t2\t2\t\n",
      "\n",
      "\n",
      "\n",
      "\n",
      "La partita e finita.\n",
      "\n",
      "Pareggio!\n"
     ]
    }
   ],
   "source": [
    "partita()"
   ]
  },
  {
   "cell_type": "code",
   "execution_count": null,
   "metadata": {
    "collapsed": true
   },
   "outputs": [],
   "source": []
  }
 ],
 "metadata": {
  "kernelspec": {
   "display_name": "Python 3",
   "language": "python",
   "name": "python3"
  },
  "language_info": {
   "codemirror_mode": {
    "name": "ipython",
    "version": 3
   },
   "file_extension": ".py",
   "mimetype": "text/x-python",
   "name": "python",
   "nbconvert_exporter": "python",
   "pygments_lexer": "ipython3",
   "version": "3.5.0"
  }
 },
 "nbformat": 4,
 "nbformat_minor": 0
}
