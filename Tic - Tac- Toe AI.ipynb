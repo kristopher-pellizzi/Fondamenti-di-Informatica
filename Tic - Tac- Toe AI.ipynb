{
 "cells": [
  {
   "cell_type": "code",
   "execution_count": 1,
   "metadata": {
    "collapsed": true
   },
   "outputs": [],
   "source": [
    "def num_mosse(mat):\n",
    "    return len([mat[i][j] for i in range (3) for j in range (3) if mat[i][j]!=0])"
   ]
  },
  {
   "cell_type": "code",
   "execution_count": 3,
   "metadata": {
    "collapsed": true
   },
   "outputs": [],
   "source": [
    "def riga(n):\n",
    "    return [m[n][i] for i in range(3)]"
   ]
  },
  {
   "cell_type": "code",
   "execution_count": 4,
   "metadata": {
    "collapsed": true
   },
   "outputs": [],
   "source": [
    "def colonna(n):\n",
    "    return [m[i][n] for i in range(3)]"
   ]
  },
  {
   "cell_type": "code",
   "execution_count": 5,
   "metadata": {
    "collapsed": true
   },
   "outputs": [],
   "source": [
    "def diag_p(m):\n",
    "    return [m[i][i] for i in range(3)]"
   ]
  },
  {
   "cell_type": "code",
   "execution_count": 6,
   "metadata": {
    "collapsed": true
   },
   "outputs": [],
   "source": [
    "def diag_s(m):\n",
    "    return [m[i][2-i] for i in range(3)]"
   ]
  },
  {
   "cell_type": "code",
   "execution_count": 7,
   "metadata": {
    "collapsed": true
   },
   "outputs": [],
   "source": [
    "def blocca(tris):\n",
    "    for i in tris:\n",
    "        if tris[i]==0:\n",
    "            return i"
   ]
  },
  {
   "cell_type": "code",
   "execution_count": 2,
   "metadata": {
    "collapsed": false
   },
   "outputs": [],
   "source": [
    "def gioco_k(mat,g):\n",
    "    if num_mosse(mat)in (0,1):\n",
    "        i=1\n",
    "        j=1\n",
    "        if mat[i][j]==0:\n",
    "            return(i,j)\n",
    "        else:\n",
    "            for i in (0,2):\n",
    "                for j in (0,2):\n",
    "                    if mat[i][j]==0:\n",
    "                        return(i,j)\n",
    "    \n",
    "    if num_mosse(mat)==2:\n",
    "        if mat[1][1]==g:\n",
    "            for i in (0,2):\n",
    "                for j in (0,2):\n",
    "                    if mat[i][j]==0:\n",
    "                        return(i,j)\n",
    "        else:\n",
    "            for i in range(3):\n",
    "                for j in range(3):\n",
    "                    if mat[i][j]==g:\n",
    "                        r=riga(mat,i)\n",
    "                        c=colonna(mat,j)\n",
    "                        break\n",
    "            if len(set(r))==2:\n",
    "                return(i,2-j)\n",
    "            else:\n",
    "                return (2-i,j)\n",
    "                \n",
    "    if num_mosse(mat) in (3,4,5,6,7):\n",
    "        if (mat[1][1]!=0 and mat[1][1]!=g):\n",
    "            if (len(set(diag_p(mat)))==2 and sorted(diag_p(mat))[0]==0):\n",
    "                for i in range(3):\n",
    "                    if mat[i][i]==0:\n",
    "                        return (i,i)\n",
    "            if (len(set(diag_s(mat)))==2 and sorted(diag_s(mat))[0]==0):\n",
    "                for i in range(3):\n",
    "                    if mat[i][2-i]==0:\n",
    "                        return(i,2-i)\n",
    "        for i in range(3):\n",
    "            for j in range(3):\n",
    "                if (mat[i][j]!=0 and mat[i][j]!=g):\n",
    "                    r=riga(mat,i)\n",
    "                    c=colonna(mat,j)\n",
    "                    if (len(set(r))==2 and sorted(r)[0]==0):\n",
    "                        blocca(r)\n",
    "                        return (i,blocca(r))\n",
    "                    if (len(set(c))==2 and sorted(c)[0]==0):\n",
    "                        return(blocca(c),j)\n",
    "        if mat[1][1]==g:\n",
    "            if (len(set(diag_p(mat)))==2 and sorted(diag_p(mat))[0]==0):\n",
    "                for i in range(3):\n",
    "                    if mat[i][i]==0:\n",
    "                        return(i,i)\n",
    "            if (len(set(diag_s(mat)))==2 and sorted(diag_s(mat))[0]==0):\n",
    "                for i in range(3):\n",
    "                    if mat[i][2-i]==0:\n",
    "                        return(i,2-i)\n",
    "        for i in range(3):\n",
    "            for j in range(3):\n",
    "                if(mat[i][j]==g):\n",
    "                    r=riga(mat,i)\n",
    "                    c=colonna(mat,j)\n",
    "                    if(len(set(r))==2 and sorted(r)[0]==0):\n",
    "                        return(i,blocca(r))\n",
    "                    if(len(set(c))==2 and sorted(c)[0]==0):\n",
    "                        return(blocca(c),j)   \n",
    "                    \n",
    "    if num_mosse(mat)==3:\n",
    "        for i in range(3):\n",
    "            for j in range(3):\n",
    "                if mat[i][j]==0:\n",
    "                    return (i,j)  "
   ]
  },
  {
   "cell_type": "code",
   "execution_count": null,
   "metadata": {
    "collapsed": true
   },
   "outputs": [],
   "source": []
  }
 ],
 "metadata": {
  "kernelspec": {
   "display_name": "Python 3",
   "language": "python",
   "name": "python3"
  },
  "language_info": {
   "codemirror_mode": {
    "name": "ipython",
    "version": 3
   },
   "file_extension": ".py",
   "mimetype": "text/x-python",
   "name": "python",
   "nbconvert_exporter": "python",
   "pygments_lexer": "ipython3",
   "version": "3.5.0"
  }
 },
 "nbformat": 4,
 "nbformat_minor": 0
}
