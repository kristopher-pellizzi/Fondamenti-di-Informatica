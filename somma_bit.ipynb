{
 "cells": [
  {
   "cell_type": "code",
   "execution_count": 1,
   "metadata": {
    "collapsed": true
   },
   "outputs": [],
   "source": [
    "def complementa1(n):\n",
    "    return [1-x for x in n]"
   ]
  },
  {
   "cell_type": "code",
   "execution_count": 2,
   "metadata": {
    "collapsed": true
   },
   "outputs": [],
   "source": [
    "def half_adder(b1, b2):\n",
    "    if b1 == 0 and b2 == 0: return [0, 0]\n",
    "    if b1 == 1 and b2 == 0: return [0, 1]\n",
    "    if b1 == 0 and b2 == 1: return [0, 1]\n",
    "    return [1, 0]"
   ]
  },
  {
   "cell_type": "code",
   "execution_count": 3,
   "metadata": {
    "collapsed": true
   },
   "outputs": [],
   "source": [
    "def full_adder(b1, b2, b3):\n",
    "    s = b1 + b2 + b3\n",
    "    if s == 0: return [0, 0]\n",
    "    if s == 1: return [0, 1]\n",
    "    if s == 2: return [1, 0]\n",
    "    return [1, 1]"
   ]
  },
  {
   "cell_type": "code",
   "execution_count": 4,
   "metadata": {
    "collapsed": false
   },
   "outputs": [],
   "source": [
    "def somma_1(n):\n",
    "    s=[]\n",
    "    for i in n:\n",
    "        s=[0]\n",
    "    s_tmp = half_adder(n[1], 1)\n",
    "    s[2] = s_tmp[1]\n",
    "    s_tmp2 = half_adder(n[0], s_tmp[0])\n",
    "    s[1] = s_tmp2[1]\n",
    "    s[0] = s_tmp2[0]\n",
    "    return s"
   ]
  },
  {
   "cell_type": "code",
   "execution_count": 22,
   "metadata": {
    "collapsed": true
   },
   "outputs": [],
   "source": [
    "def somma(n):\n",
    "    s=[0]*len(n)\n",
    "    add=1\n",
    "    i=len(n)-1\n",
    "    while i>=0:\n",
    "        s[i]=half_adder(n[i],add)[1]\n",
    "        add=half_adder(n[i],add)[0]\n",
    "        i=i-1\n",
    "    return [add]+s"
   ]
  },
  {
   "cell_type": "code",
   "execution_count": 25,
   "metadata": {
    "collapsed": true
   },
   "outputs": [],
   "source": [
    "n=[1,1,1]"
   ]
  },
  {
   "cell_type": "code",
   "execution_count": 26,
   "metadata": {
    "collapsed": false
   },
   "outputs": [
    {
     "data": {
      "text/plain": [
       "[1, 0, 0, 0]"
      ]
     },
     "execution_count": 26,
     "metadata": {},
     "output_type": "execute_result"
    }
   ],
   "source": [
    "somma(n)"
   ]
  },
  {
   "cell_type": "code",
   "execution_count": 8,
   "metadata": {
    "collapsed": false
   },
   "outputs": [
    {
     "data": {
      "text/plain": [
       "3"
      ]
     },
     "execution_count": 8,
     "metadata": {},
     "output_type": "execute_result"
    }
   ],
   "source": [
    "len(n)"
   ]
  },
  {
   "cell_type": "code",
   "execution_count": null,
   "metadata": {
    "collapsed": true
   },
   "outputs": [],
   "source": []
  }
 ],
 "metadata": {
  "kernelspec": {
   "display_name": "Python 3",
   "language": "python",
   "name": "python3"
  },
  "language_info": {
   "codemirror_mode": {
    "name": "ipython",
    "version": 3
   },
   "file_extension": ".py",
   "mimetype": "text/x-python",
   "name": "python",
   "nbconvert_exporter": "python",
   "pygments_lexer": "ipython3",
   "version": "3.5.0"
  }
 },
 "nbformat": 4,
 "nbformat_minor": 0
}
