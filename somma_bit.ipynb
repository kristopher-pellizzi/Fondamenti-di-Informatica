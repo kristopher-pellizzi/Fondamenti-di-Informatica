{
 "cells": [
  {
   "cell_type": "code",
   "execution_count": 1,
   "metadata": {
    "collapsed": true
   },
   "outputs": [],
   "source": [
    "def complementa1(n):\n",
    "    return [1-x for x in n]"
   ]
  },
  {
   "cell_type": "code",
   "execution_count": 2,
   "metadata": {
    "collapsed": true
   },
   "outputs": [],
   "source": [
    "def half_adder(b1, b2):\n",
    "    if b1 == 0 and b2 == 0: return [0, 0]\n",
    "    if b1 == 1 and b2 == 0: return [0, 1]\n",
    "    if b1 == 0 and b2 == 1: return [0, 1]\n",
    "    return [1, 0]"
   ]
  },
  {
   "cell_type": "code",
   "execution_count": 3,
   "metadata": {
    "collapsed": true
   },
   "outputs": [],
   "source": [
    "def full_adder(b1, b2, b3):\n",
    "    s = b1 + b2 + b3\n",
    "    if s == 0: return [0, 0]\n",
    "    if s == 1: return [0, 1]\n",
    "    if s == 2: return [1, 0]\n",
    "    return [1, 1]"
   ]
  },
  {
   "cell_type": "code",
   "execution_count": 4,
   "metadata": {
    "collapsed": false
   },
   "outputs": [],
   "source": [
    "def somma_1(n):\n",
    "    s=[]\n",
    "    for i in n:\n",
    "        s=[0]\n",
    "    s_tmp = half_adder(n[1], 1)\n",
    "    s[2] = s_tmp[1]\n",
    "    s_tmp2 = half_adder(n[0], s_tmp[0])\n",
    "    s[1] = s_tmp2[1]\n",
    "    s[0] = s_tmp2[0]\n",
    "    return s"
   ]
  },
  {
   "cell_type": "code",
   "execution_count": 5,
   "metadata": {
    "collapsed": true
   },
   "outputs": [],
   "source": [
    "def somma(n):\n",
    "    s=[0]*len(n)\n",
    "    add=1\n",
    "    i=len(n)-1\n",
    "    while i>=0:\n",
    "        s[i]=half_adder(n[i],add)[1]\n",
    "        add=half_adder(n[i],add)[0]\n",
    "        i=i-1\n",
    "    return [add]+s"
   ]
  },
  {
   "cell_type": "code",
   "execution_count": 35,
   "metadata": {
    "collapsed": false
   },
   "outputs": [],
   "source": [
    "def somma_num(n,m):\n",
    "    i=max(len(n),len(m))\n",
    "    while len(n)!=len(m):\n",
    "        n=[0]+n if len(n)-i!=0 else n\n",
    "        m=[0]+m if len(m)-i!=0 else m\n",
    "    s=[0]*len(n)\n",
    "    riporto=0\n",
    "    i=len(n)-1\n",
    "    while i>=0:\n",
    "        add=m[i]\n",
    "        somma_bit=half_adder(n[i],m[i])\n",
    "        somma_rip=half_adder(somma_bit[1], riporto)\n",
    "        s[i]=somma_rip[1]\n",
    "        riporto= 1 if somma_bit[0]==1 or somma_rip[0]==1 else 0\n",
    "        i=i-1\n",
    "    return [riporto]+s"
   ]
  },
  {
   "cell_type": "code",
   "execution_count": 24,
   "metadata": {
    "collapsed": false
   },
   "outputs": [
    {
     "data": {
      "text/plain": [
       "[1, 0, 0, 0, 0]"
      ]
     },
     "execution_count": 24,
     "metadata": {},
     "output_type": "execute_result"
    }
   ],
   "source": [
    "somma(n)"
   ]
  },
  {
   "cell_type": "code",
   "execution_count": 25,
   "metadata": {
    "collapsed": false
   },
   "outputs": [
    {
     "data": {
      "text/plain": [
       "4"
      ]
     },
     "execution_count": 25,
     "metadata": {},
     "output_type": "execute_result"
    }
   ],
   "source": [
    "len(n)"
   ]
  },
  {
   "cell_type": "code",
   "execution_count": 42,
   "metadata": {
    "collapsed": true
   },
   "outputs": [],
   "source": [
    "m=[0,0,0,0,0]\n",
    "n=[1]"
   ]
  },
  {
   "cell_type": "code",
   "execution_count": 43,
   "metadata": {
    "collapsed": false
   },
   "outputs": [
    {
     "data": {
      "text/plain": [
       "[0, 0, 0, 0, 0, 1]"
      ]
     },
     "execution_count": 43,
     "metadata": {},
     "output_type": "execute_result"
    }
   ],
   "source": [
    "somma_num(n,m)"
   ]
  },
  {
   "cell_type": "code",
   "execution_count": 31,
   "metadata": {
    "collapsed": false
   },
   "outputs": [
    {
     "name": "stdout",
     "output_type": "stream",
     "text": [
      "\u001b[H\u001b[2J"
     ]
    }
   ],
   "source": []
  },
  {
   "cell_type": "code",
   "execution_count": null,
   "metadata": {
    "collapsed": true
   },
   "outputs": [],
   "source": []
  }
 ],
 "metadata": {
  "kernelspec": {
   "display_name": "Python 2",
   "language": "python",
   "name": "python2"
  },
  "language_info": {
   "codemirror_mode": {
    "name": "ipython",
    "version": 2
   },
   "file_extension": ".py",
   "mimetype": "text/x-python",
   "name": "python",
   "nbconvert_exporter": "python",
   "pygments_lexer": "ipython2",
   "version": "2.7.9"
  }
 },
 "nbformat": 4,
 "nbformat_minor": 0
}
