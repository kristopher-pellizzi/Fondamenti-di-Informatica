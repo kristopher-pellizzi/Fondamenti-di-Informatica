{
 "cells": [
  {
   "cell_type": "code",
   "execution_count": 2,
   "metadata": {
    "collapsed": false
   },
   "outputs": [],
   "source": [
    "def partita(giocatore1, giocatore2):\n",
    "    giocatori =[giocatore1, giocatore2]\n",
    "    N = 3\n",
    "    m = crea_matrice(N)\n",
    "    numero_partite = 6\n",
    "    giocatore_iniziale = 1\n",
    "    vittorie = [0,0] \n",
    "    for x in range(numero_partite):   \n",
    "        vittoria = False\n",
    "        giocatore = x%2 + 1;\n",
    "        print (\"Inizia il giocatore \", giocatore)\n",
    "        m = crea_matrice(N)\n",
    "        stampa_matrice(m)\n",
    "        while not (is_full(m)) and not vittoria:\n",
    "            i,j = giocatori[giocatore-1](copy.deepcopy(m), giocatore)\n",
    "            if not 0 <= i < N or not 0 <= j < N or m[i][j] != 0:\n",
    "                print (\"il giocatore \", giocatore, \"ha fatto una mossa non valida! SQUALIFICATO!\")\n",
    "                vittoria = inverti_giocatore(giocatore)\n",
    "            else:\n",
    "                mossa(m,giocatore,i,j)\n",
    "                stampa_matrice(m)\n",
    "                vittoria = check_tris(m)\n",
    "            giocatore = inverti_giocatore(giocatore)\n",
    "        if vittoria:\n",
    "            print (\"Ha vinto il giocatore\", vittoria)\n",
    "            vittorie[vittoria-1] += 1\n",
    "        else:\n",
    "            print (\"pareggio\"),\n",
    "        sleep(5)\n",
    "        print (\"\")\n",
    "            \n",
    "    for i in range(2):\n",
    "        print (\"il giocatore \",i+1,\" ha vinto \",vittorie[i],\" volte\") "
   ]
  },
  {
   "cell_type": "code",
   "execution_count": 3,
   "metadata": {
    "collapsed": false
   },
   "outputs": [],
   "source": [
    "def stampa_matrice(m):\n",
    "    print (\"\")\n",
    "    for riga in m:\n",
    "        print (riga)\n",
    "    print (\"---------\")\n",
    "    sleep(3)"
   ]
  },
  {
   "cell_type": "code",
   "execution_count": 4,
   "metadata": {
    "collapsed": true
   },
   "outputs": [],
   "source": [
    "def mossa(m,giocatore,riga,colonna):\n",
    "    m[riga][colonna] = giocatore"
   ]
  },
  {
   "cell_type": "code",
   "execution_count": 5,
   "metadata": {
    "collapsed": true
   },
   "outputs": [],
   "source": [
    "def inverti_giocatore(x):\n",
    "    return 3-x"
   ]
  },
  {
   "cell_type": "code",
   "execution_count": 6,
   "metadata": {
    "collapsed": true
   },
   "outputs": [],
   "source": [
    "def crea_matrice(n):\n",
    "    return [[0 for _ in range(n)] for _ in range(n)]"
   ]
  },
  {
   "cell_type": "code",
   "execution_count": 7,
   "metadata": {
    "collapsed": false
   },
   "outputs": [],
   "source": [
    "def mossa_iniz(mat):\n",
    "    i=1\n",
    "    j=1\n",
    "    if mat[i][j]==0:\n",
    "        return(i,j)\n",
    "    else:\n",
    "        for i in (0,2):\n",
    "            for j in (0,2):\n",
    "                if mat[i][j]==0:\n",
    "                    return(i,j)"
   ]
  },
  {
   "cell_type": "code",
   "execution_count": 8,
   "metadata": {
    "collapsed": true
   },
   "outputs": [],
   "source": [
    "def mossa3(mat,g):\n",
    "    if mat[1][1]==g:\n",
    "        for i in (0,2):\n",
    "            for j in (0,2):\n",
    "                if mat[i][j]==0:\n",
    "                    return(i,j)\n",
    "    else:\n",
    "        for i in range(3):\n",
    "            for j in range(3):\n",
    "                if mat[i][j]==g:\n",
    "                    r=riga(mat,i)\n",
    "                    c=colonna(mat,j)\n",
    "                    break\n",
    "        if len(set(r))==2:\n",
    "            return(i,2-j)\n",
    "        else:\n",
    "            return (2-i,j)"
   ]
  },
  {
   "cell_type": "code",
   "execution_count": 9,
   "metadata": {
    "collapsed": true
   },
   "outputs": [],
   "source": [
    "def ultima_mossa(mat):\n",
    "    for i in range(3):\n",
    "        for j in range(3):\n",
    "            if mat[i][j]==0:\n",
    "                return (i,j)"
   ]
  },
  {
   "cell_type": "code",
   "execution_count": 10,
   "metadata": {
    "collapsed": true
   },
   "outputs": [],
   "source": [
    "def chiudi_diag(mat,g):\n",
    "    if (len(set(diag_p(mat)))==2 and sorted(diag_p(mat))[0]==0 and num_mosse_terna(diag_p(mat))==2):\n",
    "        for i in range(3):\n",
    "            if mat[i][i]==0:\n",
    "                return(i,i)\n",
    "    if (len(set(diag_s(mat)))==2 and sorted(diag_s(mat))[0]==0 and num_mosse_terna(diag_s(mat))==2):\n",
    "        for i in range(3):\n",
    "            if mat[i][2-i]==0:\n",
    "                return(i,2-i)"
   ]
  },
  {
   "cell_type": "code",
   "execution_count": 11,
   "metadata": {
    "collapsed": true
   },
   "outputs": [],
   "source": [
    "def chiudi_rc(mat,g,i,j):\n",
    "    r=riga(mat,i)\n",
    "    c=colonna(mat,j)\n",
    "    if(len(set(r))==2 and sorted(r)[0]==0 and num_mosse_terna(r)==2):\n",
    "        return(i,blocca(r))\n",
    "    if(len(set(c))==2 and sorted(c)[0]==0 and num_mosse_terna(c)==2):\n",
    "        return(blocca(c),j)"
   ]
  },
  {
   "cell_type": "code",
   "execution_count": 12,
   "metadata": {
    "collapsed": false
   },
   "outputs": [],
   "source": [
    "def continua(mat,g):\n",
    "    if mat[1][1]==g:\n",
    "        if (len(set(diag_p(mat)))==2 and sorted(diag_p(mat))[0]==0):\n",
    "            for i in range(3):\n",
    "                if mat[i][i]==0:\n",
    "                    return(i,i)\n",
    "        if (len(set(diag_s(mat)))==2 and sorted(diag_s(mat))[0]==0):\n",
    "            for i in range(3):\n",
    "                if mat[i][2-i]==0:\n",
    "                    return(i,2-i)\n",
    "    for i in range(3):\n",
    "        for j in range(3):\n",
    "            if(mat[i][j]==g):\n",
    "                r=riga(mat,i)\n",
    "                c=colonna(mat,j)\n",
    "                if(len(set(r))==2 and sorted(r)[0]==0):\n",
    "                    return(i,blocca(r))\n",
    "                if(len(set(c))==2 and sorted(c)[0]==0):\n",
    "                    return(blocca(c),j)\n",
    "    for i in range(3):\n",
    "        for j in range(3):\n",
    "            if(mat[i][j]==g):\n",
    "                r=riga(mat,i)\n",
    "                c=colonna(mat,j)\n",
    "                if sorted(r)[0]==0:\n",
    "                    for k in range(3):\n",
    "                        if r[k]==0:\n",
    "                            return i,k\n",
    "                if sorted(c)[0]==0:\n",
    "                    for k in range(3):\n",
    "                        if c[k]==0:\n",
    "                            return k,j"
   ]
  },
  {
   "cell_type": "code",
   "execution_count": 13,
   "metadata": {
    "collapsed": true
   },
   "outputs": [],
   "source": [
    "def giocatore1(mat, g):\n",
    "    if num_mosse(mat)in (0,1):\n",
    "        return mossa_iniz(mat)\n",
    "    \n",
    "    if num_mosse(mat)==2:\n",
    "        return mossa3(mat,g)\n",
    "                \n",
    "    if num_mosse(mat) in (3,4,5,6,7):\n",
    "        if mat[1][1]==g:\n",
    "            if chiudi_diag(mat,g)!=None:\n",
    "                return chiudi_diag(mat,g)\n",
    "        for i in range(3):\n",
    "            for j in range(3):\n",
    "                if(mat[i][j]==g):\n",
    "                    if chiudi_rc(mat,g,i,j)!=None:\n",
    "                        return chiudi_rc(mat,g,i,j)\n",
    "        if (mat[1][1]!=0 and mat[1][1]!=g):\n",
    "            if chiudi_diag(mat,g)!=None:\n",
    "                return chiudi_diag(mat,g)\n",
    "        for i in range(3):\n",
    "            for j in range(3):\n",
    "                if (mat[i][j]!=0 and mat[i][j]!=g):\n",
    "                    if chiudi_rc(mat,g,i,j)!=None:\n",
    "                        return chiudi_rc(mat,g,i,j)\n",
    "        return continua(mat,g)\n",
    "                    \n",
    "    if num_mosse(mat)==8:\n",
    "        return ultima_mossa(mat)"
   ]
  },
  {
   "cell_type": "code",
   "execution_count": 14,
   "metadata": {
    "collapsed": true
   },
   "outputs": [],
   "source": [
    "def giocatore2(mat, g):\n",
    "    i=eval(input(\"Inserisci la prima coordinata: \"))\n",
    "    j=eval(input(\"Inserisci la seconda coordinata: \"))\n",
    "    return i,j"
   ]
  },
  {
   "cell_type": "code",
   "execution_count": 15,
   "metadata": {
    "collapsed": false
   },
   "outputs": [],
   "source": [
    "from time import sleep\n",
    "import copy"
   ]
  },
  {
   "cell_type": "code",
   "execution_count": 16,
   "metadata": {
    "collapsed": true
   },
   "outputs": [],
   "source": [
    "def is_full(m):\n",
    "    c=[m[i][j]==0 for i in range(3) for j in range(3)]\n",
    "    return 0 if sum(c)>0 else 1"
   ]
  },
  {
   "cell_type": "code",
   "execution_count": 17,
   "metadata": {
    "collapsed": false
   },
   "outputs": [],
   "source": [
    "def check_set(lista):\n",
    "    if len(set(lista)) == 1:\n",
    "        return lista[0]\n",
    "    return False"
   ]
  },
  {
   "cell_type": "code",
   "execution_count": 18,
   "metadata": {
    "collapsed": false
   },
   "outputs": [],
   "source": [
    "def check_rows(m):\n",
    "    for i in range(3):\n",
    "        if check_set(riga(m,i)):\n",
    "            return check_set(riga(m,i))\n",
    "    return False"
   ]
  },
  {
   "cell_type": "code",
   "execution_count": 19,
   "metadata": {
    "collapsed": false
   },
   "outputs": [],
   "source": [
    "def check_columns(m):\n",
    "    for i in range(3):\n",
    "        if check_set(colonna(m,i)):\n",
    "            return check_set(colonna(m,i))\n",
    "    return False"
   ]
  },
  {
   "cell_type": "code",
   "execution_count": 20,
   "metadata": {
    "collapsed": false
   },
   "outputs": [],
   "source": [
    "def check_diag(m):\n",
    "    if (check_set(diag_p(m)) or check_set(diag_s(m))):\n",
    "        return (check_set(diag_p(m)) or check_set(diag_s(m)))\n",
    "    return False"
   ]
  },
  {
   "cell_type": "code",
   "execution_count": 21,
   "metadata": {
    "collapsed": true
   },
   "outputs": [],
   "source": [
    "def check_tris(m):\n",
    "    return check_rows(m) or check_columns(m) or check_diag(m)"
   ]
  },
  {
   "cell_type": "code",
   "execution_count": 22,
   "metadata": {
    "collapsed": true
   },
   "outputs": [],
   "source": [
    "def num_mosse(mat):\n",
    "    return len([mat[i][j] for i in range (3) for j in range (3) if mat[i][j]!=0])"
   ]
  },
  {
   "cell_type": "code",
   "execution_count": 23,
   "metadata": {
    "collapsed": true
   },
   "outputs": [],
   "source": [
    "def num_mosse_terna(terna):\n",
    "    return len([terna[i] for i in range(3) if terna[i]!=0])"
   ]
  },
  {
   "cell_type": "code",
   "execution_count": 24,
   "metadata": {
    "collapsed": true
   },
   "outputs": [],
   "source": [
    "def riga(m,n):\n",
    "    return [m[n][i] for i in range(3)]"
   ]
  },
  {
   "cell_type": "code",
   "execution_count": 25,
   "metadata": {
    "collapsed": true
   },
   "outputs": [],
   "source": [
    "def colonna(m,n):\n",
    "    return [m[i][n] for i in range(3)]"
   ]
  },
  {
   "cell_type": "code",
   "execution_count": 26,
   "metadata": {
    "collapsed": true
   },
   "outputs": [],
   "source": [
    "def diag_p(m):\n",
    "    return [m[i][i] for i in range(3)]"
   ]
  },
  {
   "cell_type": "code",
   "execution_count": 27,
   "metadata": {
    "collapsed": true
   },
   "outputs": [],
   "source": [
    "def diag_s(m):\n",
    "    return [m[i][2-i] for i in range(3)]"
   ]
  },
  {
   "cell_type": "code",
   "execution_count": 28,
   "metadata": {
    "collapsed": true
   },
   "outputs": [],
   "source": [
    "def blocca(tris):\n",
    "    for i in range(3):\n",
    "        if tris[i]==0:\n",
    "            return i"
   ]
  },
  {
   "cell_type": "code",
   "execution_count": null,
   "metadata": {
    "collapsed": true
   },
   "outputs": [],
   "source": [
    "partita(giocatore1,giocatore2)"
   ]
  }
 ],
 "metadata": {
  "kernelspec": {
   "display_name": "Python 3",
   "language": "python",
   "name": "python3"
  },
  "language_info": {
   "codemirror_mode": {
    "name": "ipython",
    "version": 3
   },
   "file_extension": ".py",
   "mimetype": "text/x-python",
   "name": "python",
   "nbconvert_exporter": "python",
   "pygments_lexer": "ipython3",
   "version": "3.5.0"
  }
 },
 "nbformat": 4,
 "nbformat_minor": 0
}
