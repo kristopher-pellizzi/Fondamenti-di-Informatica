{
 "cells": [
  {
   "cell_type": "code",
   "execution_count": 54,
   "metadata": {
    "collapsed": false
   },
   "outputs": [],
   "source": [
    "def partita(giocatore1, giocatore2):\n",
    "    giocatori =[giocatore1, giocatore2]\n",
    "    N = 3\n",
    "    m = crea_matrice(N)\n",
    "    numero_partite = 6\n",
    "    giocatore_iniziale = 1\n",
    "    vittorie = [0,0] \n",
    "    for x in range(numero_partite):   \n",
    "        vittoria = False\n",
    "        giocatore = x%2 + 1;\n",
    "        print (\"Inizia il giocatore \", giocatore)\n",
    "        m = crea_matrice(N)\n",
    "        stampa_matrice(m)\n",
    "        while not (is_full(m)) and not vittoria:\n",
    "            i,j = giocatori[giocatore-1](copy.deepcopy(m), giocatore)\n",
    "            if not 0 <= i < N or not 0 <= j < N or m[i][j] != 0:\n",
    "                print (\"il giocatore \", giocatore, \"ha fatto una mossa non valida! SQUALIFICATO!\")\n",
    "                vittoria = inverti_giocatore(giocatore)\n",
    "            else:\n",
    "                mossa(m,giocatore,i,j)\n",
    "                stampa_matrice(m)\n",
    "                vittoria = check_tris(m)\n",
    "            giocatore = inverti_giocatore(giocatore)\n",
    "        if vittoria:\n",
    "            print (\"Ha vinto il giocatore\", vittoria)\n",
    "            vittorie[vittoria-1] += 1\n",
    "        else:\n",
    "            print (\"pareggio\"),\n",
    "        sleep(5)\n",
    "        print (\"\")\n",
    "            \n",
    "    for i in range(2):\n",
    "        print (\"il giocatore \",i+1,\" ha vinto \",vittorie[i],\" volte\") "
   ]
  },
  {
   "cell_type": "code",
   "execution_count": 55,
   "metadata": {
    "collapsed": false
   },
   "outputs": [],
   "source": [
    "def stampa_matrice(m):\n",
    "    print (\"\")\n",
    "    for riga in m:\n",
    "        print (riga)\n",
    "    print (\"---------\")\n",
    "    sleep(3)"
   ]
  },
  {
   "cell_type": "code",
   "execution_count": 56,
   "metadata": {
    "collapsed": true
   },
   "outputs": [],
   "source": [
    "def mossa(m,giocatore,riga,colonna):\n",
    "    m[riga][colonna] = giocatore"
   ]
  },
  {
   "cell_type": "code",
   "execution_count": 57,
   "metadata": {
    "collapsed": true
   },
   "outputs": [],
   "source": [
    "def inverti_giocatore(x):\n",
    "    return 3-x"
   ]
  },
  {
   "cell_type": "code",
   "execution_count": 58,
   "metadata": {
    "collapsed": true
   },
   "outputs": [],
   "source": [
    "def crea_matrice(n):\n",
    "    return [[0 for _ in range(n)] for _ in range(n)]"
   ]
  },
  {
   "cell_type": "code",
   "execution_count": 59,
   "metadata": {
    "collapsed": false
   },
   "outputs": [],
   "source": [
    "def giocatore1(mat, g):\n",
    "    if num_mosse(mat)in (0,1):\n",
    "        i=1\n",
    "        j=1\n",
    "        if mat[i][j]==0:\n",
    "            return(i,j)\n",
    "        else:\n",
    "            for i in (0,2):\n",
    "                for j in (0,2):\n",
    "                    if mat[i][j]==0:\n",
    "                        return(i,j)\n",
    "    \n",
    "    if num_mosse(mat)==2:\n",
    "        if mat[1][1]==g:\n",
    "            for i in (0,2):\n",
    "                for j in (0,2):\n",
    "                    if mat[i][j]==0:\n",
    "                        return(i,j)\n",
    "        else:\n",
    "            for i in range(3):\n",
    "                for j in range(3):\n",
    "                    if mat[i][j]==g:\n",
    "                        r=riga(mat,i)\n",
    "                        c=colonna(mat,j)\n",
    "                        break\n",
    "            if len(set(r))==2:\n",
    "                return(i,2-j)\n",
    "            else:\n",
    "                return (2-i,j)\n",
    "                \n",
    "    if num_mosse(mat) in (3,4,5,6,7):\n",
    "        if (mat[1][1]!=0 and mat[1][1]!=g):\n",
    "            if (len(set(diag_p(mat)))==2 and sorted(diag_p(mat))[0]==0 and num_mosse_terna(diag_p(mat))==2):\n",
    "                for i in range(3):\n",
    "                    if mat[i][i]==0:\n",
    "                        return (i,i)\n",
    "            if (len(set(diag_s(mat)))==2 and sorted(diag_s(mat))[0]==0 and num_mosse_terna(diag_s(mat))==2):\n",
    "                for i in range(3):\n",
    "                    if mat[i][2-i]==0:\n",
    "                        return(i,2-i)\n",
    "        for i in range(3):\n",
    "            for j in range(3):\n",
    "                if (mat[i][j]!=0 and mat[i][j]!=g):\n",
    "                    r=riga(mat,i)\n",
    "                    c=colonna(mat,j)\n",
    "                    if (len(set(r))==2 and sorted(r)[0]==0 and num_mosse_terna(r)==2):\n",
    "                        blocca(r)\n",
    "                        return (i,blocca(r))\n",
    "                    if (len(set(c))==2 and sorted(c)[0]==0 and num_mosse_terna(c)==2):\n",
    "                        return(blocca(c),j)\n",
    "        if mat[1][1]==g:\n",
    "            if (len(set(diag_p(mat)))==2 and sorted(diag_p(mat))[0]==0 and num_mosse_terna(diag_p(mat))==2):\n",
    "                for i in range(3):\n",
    "                    if mat[i][i]==0:\n",
    "                        return(i,i)\n",
    "            if (len(set(diag_s(mat)))==2 and sorted(diag_s(mat))[0]==0 and num_mosse_terna(diag_s(mat))==2):\n",
    "                for i in range(3):\n",
    "                    if mat[i][2-i]==0:\n",
    "                        return(i,2-i)\n",
    "        for i in range(3):\n",
    "            for j in range(3):\n",
    "                if(mat[i][j]==g):\n",
    "                    r=riga(mat,i)\n",
    "                    c=colonna(mat,j)\n",
    "                    if(len(set(r))==2 and sorted(r)[0]==0 and num_mosse_terna(r)==2):\n",
    "                        return(i,blocca(r))\n",
    "                    if(len(set(c))==2 and sorted(c)[0]==0 and num_mosse_terna(c)==2):\n",
    "                        return(blocca(c),j)\n",
    "                    \n",
    "    if num_mosse(mat)==8:\n",
    "        for i in range(3):\n",
    "            for j in range(3):\n",
    "                if mat[i][j]==0:\n",
    "                    return (i,j)"
   ]
  },
  {
   "cell_type": "code",
   "execution_count": 60,
   "metadata": {
    "collapsed": true
   },
   "outputs": [],
   "source": [
    "def giocatore2(mat, g):\n",
    "    i=input(\"Inserisci la prima coordinata: \")\n",
    "    j=input(\"Inserisci la seconda coordinata: \")\n",
    "    return i,j"
   ]
  },
  {
   "cell_type": "code",
   "execution_count": 61,
   "metadata": {
    "collapsed": false
   },
   "outputs": [],
   "source": [
    "from time import sleep\n",
    "import copy"
   ]
  },
  {
   "cell_type": "code",
   "execution_count": 62,
   "metadata": {
    "collapsed": true
   },
   "outputs": [],
   "source": [
    "def is_full(m):\n",
    "    c=[m[i][j]==0 for i in range(3) for j in range(3)]\n",
    "    return 0 if sum(c)>0 else 1"
   ]
  },
  {
   "cell_type": "code",
   "execution_count": 63,
   "metadata": {
    "collapsed": false
   },
   "outputs": [],
   "source": [
    "def check_set(lista):\n",
    "    if len(set(lista)) == 1:\n",
    "        return lista[0]\n",
    "    return False"
   ]
  },
  {
   "cell_type": "code",
   "execution_count": 64,
   "metadata": {
    "collapsed": false
   },
   "outputs": [],
   "source": [
    "def check_rows(m):\n",
    "    for i in range(3):\n",
    "        if check_set(riga(m,i)):\n",
    "            return True\n",
    "    return False"
   ]
  },
  {
   "cell_type": "code",
   "execution_count": 65,
   "metadata": {
    "collapsed": false
   },
   "outputs": [],
   "source": [
    "def check_columns(m):\n",
    "    for i in range(3):\n",
    "        if check_set(colonna(m,i)):\n",
    "            return True\n",
    "    return False"
   ]
  },
  {
   "cell_type": "code",
   "execution_count": 66,
   "metadata": {
    "collapsed": false
   },
   "outputs": [],
   "source": [
    "def check_diag(m):\n",
    "    if (check_set(diag_p(m)) or check_set(diag_s(m))):\n",
    "        return True\n",
    "    return False"
   ]
  },
  {
   "cell_type": "code",
   "execution_count": 67,
   "metadata": {
    "collapsed": true
   },
   "outputs": [],
   "source": [
    "def check_tris(m):\n",
    "    return check_rows(m) or check_columns(m) or check_diag(m)"
   ]
  },
  {
   "cell_type": "code",
   "execution_count": 68,
   "metadata": {
    "collapsed": true
   },
   "outputs": [],
   "source": [
    "def num_mosse(mat):\n",
    "    return len([mat[i][j] for i in range (3) for j in range (3) if mat[i][j]!=0])"
   ]
  },
  {
   "cell_type": "code",
   "execution_count": 69,
   "metadata": {
    "collapsed": true
   },
   "outputs": [],
   "source": [
    "def num_mosse_terna(terna):\n",
    "    return len([terna[i] for i in range(3) if terna[i]!=0])"
   ]
  },
  {
   "cell_type": "code",
   "execution_count": 70,
   "metadata": {
    "collapsed": true
   },
   "outputs": [],
   "source": [
    "def riga(m,n):\n",
    "    return [m[n][i] for i in range(3)]"
   ]
  },
  {
   "cell_type": "code",
   "execution_count": 71,
   "metadata": {
    "collapsed": true
   },
   "outputs": [],
   "source": [
    "def colonna(m,n):\n",
    "    return [m[i][n] for i in range(3)]"
   ]
  },
  {
   "cell_type": "code",
   "execution_count": 72,
   "metadata": {
    "collapsed": true
   },
   "outputs": [],
   "source": [
    "def diag_p(m):\n",
    "    return [m[i][i] for i in range(3)]"
   ]
  },
  {
   "cell_type": "code",
   "execution_count": 73,
   "metadata": {
    "collapsed": true
   },
   "outputs": [],
   "source": [
    "def diag_s(m):\n",
    "    return [m[i][2-i] for i in range(3)]"
   ]
  },
  {
   "cell_type": "code",
   "execution_count": 76,
   "metadata": {
    "collapsed": true
   },
   "outputs": [],
   "source": [
    "def blocca(tris):\n",
    "    for i in range(3):\n",
    "        if tris[i]==0:\n",
    "            return i"
   ]
  },
  {
   "cell_type": "code",
   "execution_count": 77,
   "metadata": {
    "collapsed": false
   },
   "outputs": [
    {
     "name": "stdout",
     "output_type": "stream",
     "text": [
      "('Inizia il giocatore ', 1)\n",
      "\n",
      "[0, 0, 0]\n",
      "[0, 0, 0]\n",
      "[0, 0, 0]\n",
      "---------\n",
      "\n",
      "[0, 0, 0]\n",
      "[0, 1, 0]\n",
      "[0, 0, 0]\n",
      "---------\n",
      "Inserisci la prima coordinata: 2\n",
      "Inserisci la seconda coordinata: 1\n",
      "\n",
      "[0, 0, 0]\n",
      "[0, 1, 0]\n",
      "[0, 2, 0]\n",
      "---------\n",
      "\n",
      "[1, 0, 0]\n",
      "[0, 1, 0]\n",
      "[0, 2, 0]\n",
      "---------\n",
      "Inserisci la prima coordinata: 0\n",
      "Inserisci la seconda coordinata: 1\n",
      "\n",
      "[1, 2, 0]\n",
      "[0, 1, 0]\n",
      "[0, 2, 0]\n",
      "---------\n",
      "\n",
      "[1, 2, 0]\n",
      "[0, 1, 0]\n",
      "[0, 2, 1]\n",
      "---------\n",
      "('Ha vinto il giocatore', True)\n",
      "\n",
      "('Inizia il giocatore ', 2)\n",
      "\n",
      "[0, 0, 0]\n",
      "[0, 0, 0]\n",
      "[0, 0, 0]\n",
      "---------\n",
      "Inserisci la prima coordinata: 1\n",
      "Inserisci la seconda coordinata: 1\n",
      "\n",
      "[0, 0, 0]\n",
      "[0, 2, 0]\n",
      "[0, 0, 0]\n",
      "---------\n",
      "\n",
      "[1, 0, 0]\n",
      "[0, 2, 0]\n",
      "[0, 0, 0]\n",
      "---------\n",
      "Inserisci la prima coordinata: 0\n",
      "Inserisci la seconda coordinata: 2\n",
      "\n",
      "[1, 0, 2]\n",
      "[0, 2, 0]\n",
      "[0, 0, 0]\n",
      "---------\n",
      "\n",
      "[1, 0, 2]\n",
      "[0, 2, 0]\n",
      "[1, 0, 0]\n",
      "---------\n",
      "Inserisci la prima coordinata: 2\n",
      "Inserisci la seconda coordinata: 2\n",
      "\n",
      "[1, 0, 2]\n",
      "[0, 2, 0]\n",
      "[1, 0, 2]\n",
      "---------\n",
      "\n",
      "[1, 0, 2]\n",
      "[0, 2, 1]\n",
      "[1, 0, 2]\n",
      "---------\n"
     ]
    },
    {
     "ename": "KeyboardInterrupt",
     "evalue": "",
     "output_type": "error",
     "traceback": [
      "\u001b[1;31m---------------------------------------------------------------------------\u001b[0m",
      "\u001b[1;31mKeyboardInterrupt\u001b[0m                         Traceback (most recent call last)",
      "\u001b[1;32m<ipython-input-77-c28479f42717>\u001b[0m in \u001b[0;36m<module>\u001b[1;34m()\u001b[0m\n\u001b[1;32m----> 1\u001b[1;33m \u001b[0mpartita\u001b[0m\u001b[1;33m(\u001b[0m\u001b[0mgiocatore1\u001b[0m\u001b[1;33m,\u001b[0m\u001b[0mgiocatore2\u001b[0m\u001b[1;33m)\u001b[0m\u001b[1;33m\u001b[0m\u001b[0m\n\u001b[0m",
      "\u001b[1;32m<ipython-input-54-5b7860aa36d2>\u001b[0m in \u001b[0;36mpartita\u001b[1;34m(giocatore1, giocatore2)\u001b[0m\n\u001b[0;32m     13\u001b[0m         \u001b[0mstampa_matrice\u001b[0m\u001b[1;33m(\u001b[0m\u001b[0mm\u001b[0m\u001b[1;33m)\u001b[0m\u001b[1;33m\u001b[0m\u001b[0m\n\u001b[0;32m     14\u001b[0m         \u001b[1;32mwhile\u001b[0m \u001b[1;32mnot\u001b[0m \u001b[1;33m(\u001b[0m\u001b[0mis_full\u001b[0m\u001b[1;33m(\u001b[0m\u001b[0mm\u001b[0m\u001b[1;33m)\u001b[0m\u001b[1;33m)\u001b[0m \u001b[1;32mand\u001b[0m \u001b[1;32mnot\u001b[0m \u001b[0mvittoria\u001b[0m\u001b[1;33m:\u001b[0m\u001b[1;33m\u001b[0m\u001b[0m\n\u001b[1;32m---> 15\u001b[1;33m             \u001b[0mi\u001b[0m\u001b[1;33m,\u001b[0m\u001b[0mj\u001b[0m \u001b[1;33m=\u001b[0m \u001b[0mgiocatori\u001b[0m\u001b[1;33m[\u001b[0m\u001b[0mgiocatore\u001b[0m\u001b[1;33m-\u001b[0m\u001b[1;36m1\u001b[0m\u001b[1;33m]\u001b[0m\u001b[1;33m(\u001b[0m\u001b[0mcopy\u001b[0m\u001b[1;33m.\u001b[0m\u001b[0mdeepcopy\u001b[0m\u001b[1;33m(\u001b[0m\u001b[0mm\u001b[0m\u001b[1;33m)\u001b[0m\u001b[1;33m,\u001b[0m \u001b[0mgiocatore\u001b[0m\u001b[1;33m)\u001b[0m\u001b[1;33m\u001b[0m\u001b[0m\n\u001b[0m\u001b[0;32m     16\u001b[0m             \u001b[1;32mif\u001b[0m \u001b[1;32mnot\u001b[0m \u001b[1;36m0\u001b[0m \u001b[1;33m<=\u001b[0m \u001b[0mi\u001b[0m \u001b[1;33m<\u001b[0m \u001b[0mN\u001b[0m \u001b[1;32mor\u001b[0m \u001b[1;32mnot\u001b[0m \u001b[1;36m0\u001b[0m \u001b[1;33m<=\u001b[0m \u001b[0mj\u001b[0m \u001b[1;33m<\u001b[0m \u001b[0mN\u001b[0m \u001b[1;32mor\u001b[0m \u001b[0mm\u001b[0m\u001b[1;33m[\u001b[0m\u001b[0mi\u001b[0m\u001b[1;33m]\u001b[0m\u001b[1;33m[\u001b[0m\u001b[0mj\u001b[0m\u001b[1;33m]\u001b[0m \u001b[1;33m!=\u001b[0m \u001b[1;36m0\u001b[0m\u001b[1;33m:\u001b[0m\u001b[1;33m\u001b[0m\u001b[0m\n\u001b[0;32m     17\u001b[0m                 \u001b[1;32mprint\u001b[0m \u001b[1;33m(\u001b[0m\u001b[1;34m\"il giocatore \"\u001b[0m\u001b[1;33m,\u001b[0m \u001b[0mgiocatore\u001b[0m\u001b[1;33m,\u001b[0m \u001b[1;34m\"ha fatto una mossa non valida! SQUALIFICATO!\"\u001b[0m\u001b[1;33m)\u001b[0m\u001b[1;33m\u001b[0m\u001b[0m\n",
      "\u001b[1;32m<ipython-input-60-ce473fd382c4>\u001b[0m in \u001b[0;36mgiocatore2\u001b[1;34m(mat, g)\u001b[0m\n\u001b[0;32m      1\u001b[0m \u001b[1;32mdef\u001b[0m \u001b[0mgiocatore2\u001b[0m\u001b[1;33m(\u001b[0m\u001b[0mmat\u001b[0m\u001b[1;33m,\u001b[0m \u001b[0mg\u001b[0m\u001b[1;33m)\u001b[0m\u001b[1;33m:\u001b[0m\u001b[1;33m\u001b[0m\u001b[0m\n\u001b[1;32m----> 2\u001b[1;33m     \u001b[0mi\u001b[0m\u001b[1;33m=\u001b[0m\u001b[0minput\u001b[0m\u001b[1;33m(\u001b[0m\u001b[1;34m\"Inserisci la prima coordinata: \"\u001b[0m\u001b[1;33m)\u001b[0m\u001b[1;33m\u001b[0m\u001b[0m\n\u001b[0m\u001b[0;32m      3\u001b[0m     \u001b[0mj\u001b[0m\u001b[1;33m=\u001b[0m\u001b[0minput\u001b[0m\u001b[1;33m(\u001b[0m\u001b[1;34m\"Inserisci la seconda coordinata: \"\u001b[0m\u001b[1;33m)\u001b[0m\u001b[1;33m\u001b[0m\u001b[0m\n\u001b[0;32m      4\u001b[0m     \u001b[1;32mreturn\u001b[0m \u001b[0mi\u001b[0m\u001b[1;33m,\u001b[0m\u001b[0mj\u001b[0m\u001b[1;33m\u001b[0m\u001b[0m\n",
      "\u001b[1;32m/home/kristopher/.local/lib/python2.7/site-packages/ipykernel/ipkernel.pyc\u001b[0m in \u001b[0;36m<lambda>\u001b[1;34m(prompt)\u001b[0m\n\u001b[0;32m    139\u001b[0m             \u001b[0mself\u001b[0m\u001b[1;33m.\u001b[0m\u001b[0m_sys_eval_input\u001b[0m \u001b[1;33m=\u001b[0m \u001b[0mbuiltin_mod\u001b[0m\u001b[1;33m.\u001b[0m\u001b[0minput\u001b[0m\u001b[1;33m\u001b[0m\u001b[0m\n\u001b[0;32m    140\u001b[0m             \u001b[0mbuiltin_mod\u001b[0m\u001b[1;33m.\u001b[0m\u001b[0mraw_input\u001b[0m \u001b[1;33m=\u001b[0m \u001b[0mself\u001b[0m\u001b[1;33m.\u001b[0m\u001b[0mraw_input\u001b[0m\u001b[1;33m\u001b[0m\u001b[0m\n\u001b[1;32m--> 141\u001b[1;33m             \u001b[0mbuiltin_mod\u001b[0m\u001b[1;33m.\u001b[0m\u001b[0minput\u001b[0m \u001b[1;33m=\u001b[0m \u001b[1;32mlambda\u001b[0m \u001b[0mprompt\u001b[0m\u001b[1;33m=\u001b[0m\u001b[1;34m''\u001b[0m\u001b[1;33m:\u001b[0m \u001b[0meval\u001b[0m\u001b[1;33m(\u001b[0m\u001b[0mself\u001b[0m\u001b[1;33m.\u001b[0m\u001b[0mraw_input\u001b[0m\u001b[1;33m(\u001b[0m\u001b[0mprompt\u001b[0m\u001b[1;33m)\u001b[0m\u001b[1;33m)\u001b[0m\u001b[1;33m\u001b[0m\u001b[0m\n\u001b[0m\u001b[0;32m    142\u001b[0m         \u001b[0mself\u001b[0m\u001b[1;33m.\u001b[0m\u001b[0m_save_getpass\u001b[0m \u001b[1;33m=\u001b[0m \u001b[0mgetpass\u001b[0m\u001b[1;33m.\u001b[0m\u001b[0mgetpass\u001b[0m\u001b[1;33m\u001b[0m\u001b[0m\n\u001b[0;32m    143\u001b[0m         \u001b[0mgetpass\u001b[0m\u001b[1;33m.\u001b[0m\u001b[0mgetpass\u001b[0m \u001b[1;33m=\u001b[0m \u001b[0mself\u001b[0m\u001b[1;33m.\u001b[0m\u001b[0mgetpass\u001b[0m\u001b[1;33m\u001b[0m\u001b[0m\n",
      "\u001b[1;32m/home/kristopher/.local/lib/python2.7/site-packages/ipykernel/kernelbase.pyc\u001b[0m in \u001b[0;36mraw_input\u001b[1;34m(self, prompt)\u001b[0m\n\u001b[0;32m    675\u001b[0m             \u001b[0mself\u001b[0m\u001b[1;33m.\u001b[0m\u001b[0m_parent_ident\u001b[0m\u001b[1;33m,\u001b[0m\u001b[1;33m\u001b[0m\u001b[0m\n\u001b[0;32m    676\u001b[0m             \u001b[0mself\u001b[0m\u001b[1;33m.\u001b[0m\u001b[0m_parent_header\u001b[0m\u001b[1;33m,\u001b[0m\u001b[1;33m\u001b[0m\u001b[0m\n\u001b[1;32m--> 677\u001b[1;33m             \u001b[0mpassword\u001b[0m\u001b[1;33m=\u001b[0m\u001b[0mFalse\u001b[0m\u001b[1;33m,\u001b[0m\u001b[1;33m\u001b[0m\u001b[0m\n\u001b[0m\u001b[0;32m    678\u001b[0m         )\n\u001b[0;32m    679\u001b[0m \u001b[1;33m\u001b[0m\u001b[0m\n",
      "\u001b[1;32m/home/kristopher/.local/lib/python2.7/site-packages/ipykernel/kernelbase.pyc\u001b[0m in \u001b[0;36m_input_request\u001b[1;34m(self, prompt, ident, parent, password)\u001b[0m\n\u001b[0;32m    705\u001b[0m             \u001b[1;32mexcept\u001b[0m \u001b[0mKeyboardInterrupt\u001b[0m\u001b[1;33m:\u001b[0m\u001b[1;33m\u001b[0m\u001b[0m\n\u001b[0;32m    706\u001b[0m                 \u001b[1;31m# re-raise KeyboardInterrupt, to truncate traceback\u001b[0m\u001b[1;33m\u001b[0m\u001b[1;33m\u001b[0m\u001b[0m\n\u001b[1;32m--> 707\u001b[1;33m                 \u001b[1;32mraise\u001b[0m \u001b[0mKeyboardInterrupt\u001b[0m\u001b[1;33m\u001b[0m\u001b[0m\n\u001b[0m\u001b[0;32m    708\u001b[0m             \u001b[1;32melse\u001b[0m\u001b[1;33m:\u001b[0m\u001b[1;33m\u001b[0m\u001b[0m\n\u001b[0;32m    709\u001b[0m                 \u001b[1;32mbreak\u001b[0m\u001b[1;33m\u001b[0m\u001b[0m\n",
      "\u001b[1;31mKeyboardInterrupt\u001b[0m: "
     ]
    }
   ],
   "source": [
    "partita(giocatore1,giocatore2)"
   ]
  },
  {
   "cell_type": "code",
   "execution_count": null,
   "metadata": {
    "collapsed": true
   },
   "outputs": [],
   "source": []
  }
 ],
 "metadata": {
  "kernelspec": {
   "display_name": "Python 2",
   "language": "python",
   "name": "python2"
  },
  "language_info": {
   "codemirror_mode": {
    "name": "ipython",
    "version": 2
   },
   "file_extension": ".py",
   "mimetype": "text/x-python",
   "name": "python",
   "nbconvert_exporter": "python",
   "pygments_lexer": "ipython2",
   "version": "2.7.10"
  }
 },
 "nbformat": 4,
 "nbformat_minor": 0
}
